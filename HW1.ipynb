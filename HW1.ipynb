{
  "nbformat": 4,
  "nbformat_minor": 0,
  "metadata": {
    "colab": {
      "name": "HW1.ipynb",
      "provenance": [],
      "authorship_tag": "ABX9TyOTPHzWm2Es+kq2FXwxw+ne",
      "include_colab_link": true
    },
    "kernelspec": {
      "name": "python3",
      "display_name": "Python 3"
    },
    "language_info": {
      "name": "python"
    }
  },
  "cells": [
    {
      "cell_type": "markdown",
      "metadata": {
        "id": "view-in-github",
        "colab_type": "text"
      },
      "source": [
        "<a href=\"https://colab.research.google.com/github/KrissSeibel/PythonBiblio/blob/lesson_1/HW1.ipynb\" target=\"_parent\"><img src=\"https://colab.research.google.com/assets/colab-badge.svg\" alt=\"Open In Colab\"/></a>"
      ]
    },
    {
      "cell_type": "markdown",
      "metadata": {
        "id": "syicJ7Vv0Lv-"
      },
      "source": [
        "#Тема: Numpy"
      ]
    },
    {
      "cell_type": "markdown",
      "metadata": {
        "id": "kV4pK-dDc52W"
      },
      "source": [
        "Задание №1."
      ]
    },
    {
      "cell_type": "code",
      "metadata": {
        "id": "6d6L-AqTDk14"
      },
      "source": [
        "import numpy as np"
      ],
      "execution_count": 32,
      "outputs": []
    },
    {
      "cell_type": "code",
      "metadata": {
        "colab": {
          "base_uri": "https://localhost:8080/"
        },
        "id": "8EjoMvnddKQz",
        "outputId": "6d7ef88f-fbb3-4a5d-d8dc-0cb29a0aee88"
      },
      "source": [
        "a=np.array([[1, 6], [2, 8], [3, 11], [3, 10], [1, 7]])\n",
        "a"
      ],
      "execution_count": 33,
      "outputs": [
        {
          "output_type": "execute_result",
          "data": {
            "text/plain": [
              "array([[ 1,  6],\n",
              "       [ 2,  8],\n",
              "       [ 3, 11],\n",
              "       [ 3, 10],\n",
              "       [ 1,  7]])"
            ]
          },
          "metadata": {},
          "execution_count": 33
        }
      ]
    },
    {
      "cell_type": "code",
      "metadata": {
        "colab": {
          "base_uri": "https://localhost:8080/"
        },
        "id": "YlT_hHu0enLw",
        "outputId": "1b6e09d9-750f-4fbf-bb05-ccf64af1e017"
      },
      "source": [
        "mean_a=a.mean(axis=0)\n",
        "mean_a"
      ],
      "execution_count": 34,
      "outputs": [
        {
          "output_type": "execute_result",
          "data": {
            "text/plain": [
              "array([2. , 8.4])"
            ]
          },
          "metadata": {},
          "execution_count": 34
        }
      ]
    },
    {
      "cell_type": "markdown",
      "metadata": {
        "id": "TLhWcPh-faeB"
      },
      "source": [
        "Задание №2."
      ]
    },
    {
      "cell_type": "code",
      "metadata": {
        "colab": {
          "base_uri": "https://localhost:8080/"
        },
        "id": "GU3CB3UWgHUG",
        "outputId": "0f8360df-92dc-4a0a-d29c-557ea775946c"
      },
      "source": [
        "a_centered=a-mean_a\n",
        "a_centered"
      ],
      "execution_count": 35,
      "outputs": [
        {
          "output_type": "execute_result",
          "data": {
            "text/plain": [
              "array([[-1. , -2.4],\n",
              "       [ 0. , -0.4],\n",
              "       [ 1. ,  2.6],\n",
              "       [ 1. ,  1.6],\n",
              "       [-1. , -1.4]])"
            ]
          },
          "metadata": {},
          "execution_count": 35
        }
      ]
    },
    {
      "cell_type": "markdown",
      "metadata": {
        "id": "yvqEcTJfgpLm"
      },
      "source": [
        "Задание №3."
      ]
    },
    {
      "cell_type": "code",
      "metadata": {
        "colab": {
          "base_uri": "https://localhost:8080/"
        },
        "id": "1_r0QT49gtxj",
        "outputId": "9c0bef3e-e297-4696-d6ab-52e03efb2ed8"
      },
      "source": [
        "x=a_centered[0:5, 0:1].T[0]\n",
        "y=a_centered[0:5, 1:2].T[0]\n",
        "a_centered_sp=x @ y\n",
        "a_centered_sp"
      ],
      "execution_count": 37,
      "outputs": [
        {
          "output_type": "execute_result",
          "data": {
            "text/plain": [
              "8.0"
            ]
          },
          "metadata": {},
          "execution_count": 37
        }
      ]
    },
    {
      "cell_type": "code",
      "metadata": {
        "colab": {
          "base_uri": "https://localhost:8080/"
        },
        "id": "dWs0VbX5p4_7",
        "outputId": "9db130e2-5381-4bec-9b47-c99f1b9d7c22"
      },
      "source": [
        "a_centered_sp/(a.shape[0]-1)"
      ],
      "execution_count": 38,
      "outputs": [
        {
          "output_type": "execute_result",
          "data": {
            "text/plain": [
              "2.0"
            ]
          },
          "metadata": {},
          "execution_count": 38
        }
      ]
    },
    {
      "cell_type": "markdown",
      "metadata": {
        "id": "mF1mwzRXgpUd"
      },
      "source": [
        "Задание №4."
      ]
    },
    {
      "cell_type": "code",
      "metadata": {
        "colab": {
          "base_uri": "https://localhost:8080/"
        },
        "id": "cqGeV0xIxNNy",
        "outputId": "1ead2017-e1ff-4374-e370-b9c6fe1980b0"
      },
      "source": [
        "np.cov(a.T)"
      ],
      "execution_count": 39,
      "outputs": [
        {
          "output_type": "execute_result",
          "data": {
            "text/plain": [
              "array([[1. , 2. ],\n",
              "       [2. , 4.3]])"
            ]
          },
          "metadata": {},
          "execution_count": 39
        }
      ]
    },
    {
      "cell_type": "markdown",
      "metadata": {
        "id": "sRXdiOhJ0Xns"
      },
      "source": [
        "#Тема: Pandas "
      ]
    },
    {
      "cell_type": "markdown",
      "metadata": {
        "id": "F-_irPz20hDz"
      },
      "source": [
        "Задание №1."
      ]
    },
    {
      "cell_type": "code",
      "metadata": {
        "id": "fbxvZJt20fqH"
      },
      "source": [
        "import pandas as pd"
      ],
      "execution_count": 54,
      "outputs": []
    },
    {
      "cell_type": "code",
      "metadata": {
        "id": "Imj2ifuo5l8l"
      },
      "source": [
        "a={'author_id': [1, 2, 3], 'author_name': ['Тургенев','Чехов','Островский']}"
      ],
      "execution_count": 55,
      "outputs": []
    },
    {
      "cell_type": "code",
      "metadata": {
        "colab": {
          "base_uri": "https://localhost:8080/",
          "height": 142
        },
        "id": "oBQmwQ-b2pNY",
        "outputId": "bab5e844-3c7d-490a-e012-2c56a16d79a6"
      },
      "source": [
        "authors=pd.DataFrame(a)\n",
        "authors"
      ],
      "execution_count": 56,
      "outputs": [
        {
          "output_type": "execute_result",
          "data": {
            "text/html": [
              "<div>\n",
              "<style scoped>\n",
              "    .dataframe tbody tr th:only-of-type {\n",
              "        vertical-align: middle;\n",
              "    }\n",
              "\n",
              "    .dataframe tbody tr th {\n",
              "        vertical-align: top;\n",
              "    }\n",
              "\n",
              "    .dataframe thead th {\n",
              "        text-align: right;\n",
              "    }\n",
              "</style>\n",
              "<table border=\"1\" class=\"dataframe\">\n",
              "  <thead>\n",
              "    <tr style=\"text-align: right;\">\n",
              "      <th></th>\n",
              "      <th>author_id</th>\n",
              "      <th>author_name</th>\n",
              "    </tr>\n",
              "  </thead>\n",
              "  <tbody>\n",
              "    <tr>\n",
              "      <th>0</th>\n",
              "      <td>1</td>\n",
              "      <td>Тургенев</td>\n",
              "    </tr>\n",
              "    <tr>\n",
              "      <th>1</th>\n",
              "      <td>2</td>\n",
              "      <td>Чехов</td>\n",
              "    </tr>\n",
              "    <tr>\n",
              "      <th>2</th>\n",
              "      <td>3</td>\n",
              "      <td>Островский</td>\n",
              "    </tr>\n",
              "  </tbody>\n",
              "</table>\n",
              "</div>"
            ],
            "text/plain": [
              "   author_id author_name\n",
              "0          1    Тургенев\n",
              "1          2       Чехов\n",
              "2          3  Островский"
            ]
          },
          "metadata": {},
          "execution_count": 56
        }
      ]
    },
    {
      "cell_type": "code",
      "metadata": {
        "id": "R30cG7v-6So-"
      },
      "source": [
        "b={'author_id': [1, 1, 1, 2, 2, 3, 3], \n",
        "   'book_title': ['Отцы и дети', 'Рудин', 'Дворянское гнездо', 'Толстый и тонкий', 'Дама с собачкой', 'Гроза', 'Таланты и поклонники'],\n",
        "   'price': [450, 300, 350, 500, 450, 370, 290]}"
      ],
      "execution_count": 57,
      "outputs": []
    },
    {
      "cell_type": "code",
      "metadata": {
        "colab": {
          "base_uri": "https://localhost:8080/",
          "height": 266
        },
        "id": "MZj-ZSpG7Rd6",
        "outputId": "1c9a1dda-c0fe-4a20-8022-42ebb7c527ec"
      },
      "source": [
        "book=pd.DataFrame(b)\n",
        "book"
      ],
      "execution_count": 58,
      "outputs": [
        {
          "output_type": "execute_result",
          "data": {
            "text/html": [
              "<div>\n",
              "<style scoped>\n",
              "    .dataframe tbody tr th:only-of-type {\n",
              "        vertical-align: middle;\n",
              "    }\n",
              "\n",
              "    .dataframe tbody tr th {\n",
              "        vertical-align: top;\n",
              "    }\n",
              "\n",
              "    .dataframe thead th {\n",
              "        text-align: right;\n",
              "    }\n",
              "</style>\n",
              "<table border=\"1\" class=\"dataframe\">\n",
              "  <thead>\n",
              "    <tr style=\"text-align: right;\">\n",
              "      <th></th>\n",
              "      <th>author_id</th>\n",
              "      <th>book_title</th>\n",
              "      <th>price</th>\n",
              "    </tr>\n",
              "  </thead>\n",
              "  <tbody>\n",
              "    <tr>\n",
              "      <th>0</th>\n",
              "      <td>1</td>\n",
              "      <td>Отцы и дети</td>\n",
              "      <td>450</td>\n",
              "    </tr>\n",
              "    <tr>\n",
              "      <th>1</th>\n",
              "      <td>1</td>\n",
              "      <td>Рудин</td>\n",
              "      <td>300</td>\n",
              "    </tr>\n",
              "    <tr>\n",
              "      <th>2</th>\n",
              "      <td>1</td>\n",
              "      <td>Дворянское гнездо</td>\n",
              "      <td>350</td>\n",
              "    </tr>\n",
              "    <tr>\n",
              "      <th>3</th>\n",
              "      <td>2</td>\n",
              "      <td>Толстый и тонкий</td>\n",
              "      <td>500</td>\n",
              "    </tr>\n",
              "    <tr>\n",
              "      <th>4</th>\n",
              "      <td>2</td>\n",
              "      <td>Дама с собачкой</td>\n",
              "      <td>450</td>\n",
              "    </tr>\n",
              "    <tr>\n",
              "      <th>5</th>\n",
              "      <td>3</td>\n",
              "      <td>Гроза</td>\n",
              "      <td>370</td>\n",
              "    </tr>\n",
              "    <tr>\n",
              "      <th>6</th>\n",
              "      <td>3</td>\n",
              "      <td>Таланты и поклонники</td>\n",
              "      <td>290</td>\n",
              "    </tr>\n",
              "  </tbody>\n",
              "</table>\n",
              "</div>"
            ],
            "text/plain": [
              "   author_id            book_title  price\n",
              "0          1           Отцы и дети    450\n",
              "1          1                 Рудин    300\n",
              "2          1     Дворянское гнездо    350\n",
              "3          2      Толстый и тонкий    500\n",
              "4          2       Дама с собачкой    450\n",
              "5          3                 Гроза    370\n",
              "6          3  Таланты и поклонники    290"
            ]
          },
          "metadata": {},
          "execution_count": 58
        }
      ]
    },
    {
      "cell_type": "markdown",
      "metadata": {
        "id": "dxnIP-Oj7hBI"
      },
      "source": [
        "Задание №2."
      ]
    },
    {
      "cell_type": "code",
      "metadata": {
        "colab": {
          "base_uri": "https://localhost:8080/",
          "height": 266
        },
        "id": "sPkRnCwO7jZy",
        "outputId": "2b7b003d-eab8-40aa-b93d-38f3a39d841b"
      },
      "source": [
        "authors_price=pd.merge(authors, book, on='author_id')\n",
        "authors_price"
      ],
      "execution_count": 59,
      "outputs": [
        {
          "output_type": "execute_result",
          "data": {
            "text/html": [
              "<div>\n",
              "<style scoped>\n",
              "    .dataframe tbody tr th:only-of-type {\n",
              "        vertical-align: middle;\n",
              "    }\n",
              "\n",
              "    .dataframe tbody tr th {\n",
              "        vertical-align: top;\n",
              "    }\n",
              "\n",
              "    .dataframe thead th {\n",
              "        text-align: right;\n",
              "    }\n",
              "</style>\n",
              "<table border=\"1\" class=\"dataframe\">\n",
              "  <thead>\n",
              "    <tr style=\"text-align: right;\">\n",
              "      <th></th>\n",
              "      <th>author_id</th>\n",
              "      <th>author_name</th>\n",
              "      <th>book_title</th>\n",
              "      <th>price</th>\n",
              "    </tr>\n",
              "  </thead>\n",
              "  <tbody>\n",
              "    <tr>\n",
              "      <th>0</th>\n",
              "      <td>1</td>\n",
              "      <td>Тургенев</td>\n",
              "      <td>Отцы и дети</td>\n",
              "      <td>450</td>\n",
              "    </tr>\n",
              "    <tr>\n",
              "      <th>1</th>\n",
              "      <td>1</td>\n",
              "      <td>Тургенев</td>\n",
              "      <td>Рудин</td>\n",
              "      <td>300</td>\n",
              "    </tr>\n",
              "    <tr>\n",
              "      <th>2</th>\n",
              "      <td>1</td>\n",
              "      <td>Тургенев</td>\n",
              "      <td>Дворянское гнездо</td>\n",
              "      <td>350</td>\n",
              "    </tr>\n",
              "    <tr>\n",
              "      <th>3</th>\n",
              "      <td>2</td>\n",
              "      <td>Чехов</td>\n",
              "      <td>Толстый и тонкий</td>\n",
              "      <td>500</td>\n",
              "    </tr>\n",
              "    <tr>\n",
              "      <th>4</th>\n",
              "      <td>2</td>\n",
              "      <td>Чехов</td>\n",
              "      <td>Дама с собачкой</td>\n",
              "      <td>450</td>\n",
              "    </tr>\n",
              "    <tr>\n",
              "      <th>5</th>\n",
              "      <td>3</td>\n",
              "      <td>Островский</td>\n",
              "      <td>Гроза</td>\n",
              "      <td>370</td>\n",
              "    </tr>\n",
              "    <tr>\n",
              "      <th>6</th>\n",
              "      <td>3</td>\n",
              "      <td>Островский</td>\n",
              "      <td>Таланты и поклонники</td>\n",
              "      <td>290</td>\n",
              "    </tr>\n",
              "  </tbody>\n",
              "</table>\n",
              "</div>"
            ],
            "text/plain": [
              "   author_id author_name            book_title  price\n",
              "0          1    Тургенев           Отцы и дети    450\n",
              "1          1    Тургенев                 Рудин    300\n",
              "2          1    Тургенев     Дворянское гнездо    350\n",
              "3          2       Чехов      Толстый и тонкий    500\n",
              "4          2       Чехов       Дама с собачкой    450\n",
              "5          3  Островский                 Гроза    370\n",
              "6          3  Островский  Таланты и поклонники    290"
            ]
          },
          "metadata": {},
          "execution_count": 59
        }
      ]
    },
    {
      "cell_type": "markdown",
      "metadata": {
        "id": "p6tKpLpw_JrS"
      },
      "source": [
        "Задание №3."
      ]
    },
    {
      "cell_type": "code",
      "metadata": {
        "colab": {
          "base_uri": "https://localhost:8080/",
          "height": 204
        },
        "id": "JZnzP3v4_NOb",
        "outputId": "2362b728-f2ee-4b16-f577-b9e0c3b4ba12"
      },
      "source": [
        "top5=authors_price.nlargest(5, 'price')\n",
        "top5"
      ],
      "execution_count": 60,
      "outputs": [
        {
          "output_type": "execute_result",
          "data": {
            "text/html": [
              "<div>\n",
              "<style scoped>\n",
              "    .dataframe tbody tr th:only-of-type {\n",
              "        vertical-align: middle;\n",
              "    }\n",
              "\n",
              "    .dataframe tbody tr th {\n",
              "        vertical-align: top;\n",
              "    }\n",
              "\n",
              "    .dataframe thead th {\n",
              "        text-align: right;\n",
              "    }\n",
              "</style>\n",
              "<table border=\"1\" class=\"dataframe\">\n",
              "  <thead>\n",
              "    <tr style=\"text-align: right;\">\n",
              "      <th></th>\n",
              "      <th>author_id</th>\n",
              "      <th>author_name</th>\n",
              "      <th>book_title</th>\n",
              "      <th>price</th>\n",
              "    </tr>\n",
              "  </thead>\n",
              "  <tbody>\n",
              "    <tr>\n",
              "      <th>3</th>\n",
              "      <td>2</td>\n",
              "      <td>Чехов</td>\n",
              "      <td>Толстый и тонкий</td>\n",
              "      <td>500</td>\n",
              "    </tr>\n",
              "    <tr>\n",
              "      <th>0</th>\n",
              "      <td>1</td>\n",
              "      <td>Тургенев</td>\n",
              "      <td>Отцы и дети</td>\n",
              "      <td>450</td>\n",
              "    </tr>\n",
              "    <tr>\n",
              "      <th>4</th>\n",
              "      <td>2</td>\n",
              "      <td>Чехов</td>\n",
              "      <td>Дама с собачкой</td>\n",
              "      <td>450</td>\n",
              "    </tr>\n",
              "    <tr>\n",
              "      <th>5</th>\n",
              "      <td>3</td>\n",
              "      <td>Островский</td>\n",
              "      <td>Гроза</td>\n",
              "      <td>370</td>\n",
              "    </tr>\n",
              "    <tr>\n",
              "      <th>2</th>\n",
              "      <td>1</td>\n",
              "      <td>Тургенев</td>\n",
              "      <td>Дворянское гнездо</td>\n",
              "      <td>350</td>\n",
              "    </tr>\n",
              "  </tbody>\n",
              "</table>\n",
              "</div>"
            ],
            "text/plain": [
              "   author_id author_name         book_title  price\n",
              "3          2       Чехов   Толстый и тонкий    500\n",
              "0          1    Тургенев        Отцы и дети    450\n",
              "4          2       Чехов    Дама с собачкой    450\n",
              "5          3  Островский              Гроза    370\n",
              "2          1    Тургенев  Дворянское гнездо    350"
            ]
          },
          "metadata": {},
          "execution_count": 60
        }
      ]
    },
    {
      "cell_type": "markdown",
      "metadata": {
        "id": "RrJm1z1AA2jD"
      },
      "source": [
        "Задание №4."
      ]
    },
    {
      "cell_type": "code",
      "metadata": {
        "id": "FtE3WmPfA5u4"
      },
      "source": [
        "author_stat1=authors_price.groupby('author_name').agg({'price': 'min'})\n",
        "author_stat1=author_stat1.rename(columns={'price':'min_price'})\n",
        "author_stat2=authors_price.groupby('author_name').agg({'price': 'max'})\n",
        "author_stat2=author_stat2.rename(columns={'price':'max_price'})\n",
        "author_stat3=authors_price.groupby('author_name').agg({'price': 'mean'})\n",
        "author_stat3=author_stat3.rename(columns={'price':'mean_price'})"
      ],
      "execution_count": 67,
      "outputs": []
    },
    {
      "cell_type": "code",
      "metadata": {
        "colab": {
          "base_uri": "https://localhost:8080/",
          "height": 173
        },
        "id": "rhkCVadXEp3y",
        "outputId": "a89c325f-3703-44bd-d6ec-2cb52bce74a7"
      },
      "source": [
        "author_stat=pd.merge(author_stat1, author_stat2, on='author_name')\n",
        "author_stat=pd.merge(author_stat, author_stat3, on='author_name')\n",
        "author_stat"
      ],
      "execution_count": 70,
      "outputs": [
        {
          "output_type": "execute_result",
          "data": {
            "text/html": [
              "<div>\n",
              "<style scoped>\n",
              "    .dataframe tbody tr th:only-of-type {\n",
              "        vertical-align: middle;\n",
              "    }\n",
              "\n",
              "    .dataframe tbody tr th {\n",
              "        vertical-align: top;\n",
              "    }\n",
              "\n",
              "    .dataframe thead th {\n",
              "        text-align: right;\n",
              "    }\n",
              "</style>\n",
              "<table border=\"1\" class=\"dataframe\">\n",
              "  <thead>\n",
              "    <tr style=\"text-align: right;\">\n",
              "      <th></th>\n",
              "      <th>min_price</th>\n",
              "      <th>max_price</th>\n",
              "      <th>mean_price</th>\n",
              "    </tr>\n",
              "    <tr>\n",
              "      <th>author_name</th>\n",
              "      <th></th>\n",
              "      <th></th>\n",
              "      <th></th>\n",
              "    </tr>\n",
              "  </thead>\n",
              "  <tbody>\n",
              "    <tr>\n",
              "      <th>Островский</th>\n",
              "      <td>290</td>\n",
              "      <td>370</td>\n",
              "      <td>330.000000</td>\n",
              "    </tr>\n",
              "    <tr>\n",
              "      <th>Тургенев</th>\n",
              "      <td>300</td>\n",
              "      <td>450</td>\n",
              "      <td>366.666667</td>\n",
              "    </tr>\n",
              "    <tr>\n",
              "      <th>Чехов</th>\n",
              "      <td>450</td>\n",
              "      <td>500</td>\n",
              "      <td>475.000000</td>\n",
              "    </tr>\n",
              "  </tbody>\n",
              "</table>\n",
              "</div>"
            ],
            "text/plain": [
              "             min_price  max_price  mean_price\n",
              "author_name                                  \n",
              "Островский         290        370  330.000000\n",
              "Тургенев           300        450  366.666667\n",
              "Чехов              450        500  475.000000"
            ]
          },
          "metadata": {},
          "execution_count": 70
        }
      ]
    }
  ]
}